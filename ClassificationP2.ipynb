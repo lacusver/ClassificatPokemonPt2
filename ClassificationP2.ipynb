{
  "nbformat": 4,
  "nbformat_minor": 0,
  "metadata": {
    "colab": {
      "name": "Практика_2 (1).ipynb",
      "provenance": [],
      "collapsed_sections": [],
      "toc_visible": true
    },
    "kernelspec": {
      "name": "python3",
      "display_name": "Python 3"
    },
    "accelerator": "GPU"
  },
  "cells": [
    {
      "cell_type": "markdown",
      "metadata": {
        "id": "B5GylYPAsYPp",
        "colab_type": "text"
      },
      "source": [
        "# Классификация покемонов **часть 2**\n",
        "\n",
        "## Как загрузить колллаб на свой гугл диск\n",
        "\n",
        "Чтобы иметь возможность запустить блоки кода в Google Colab, вам необходимо сохранить его на своем Google Disk.\n",
        "Нажмите на вкладку File в левом верхнем углу, у вас откроется окно с различными пунктами, как видно на картинке ниже. Выберите пункт сохранить копию на диске (Save a copy in Drive).  \n",
        "\n",
        "![alt text](https://sun2.is74.userapi.com/XPz5mAsxV4dq9DaQummKA-BUZO1zoa6yX5cj8w/Wdnxs_GHtv8.jpg)\n",
        "\n",
        "У вас должна автоматически открыться новая вкладка с сохраненной копией Google Colab.\n",
        "\n",
        "![alt text](https://sun1.is74.userapi.com/qheclDwr9RphL3yXKsGjyEbrYeYbCzp_cpM9cg/bMUYV8loGc4.jpg)\n",
        "\n",
        "Нажмите на вкладку Edit и выберите пункт Notebook settings. \n",
        "\n",
        "![alt text](https://sun1.is74.userapi.com/vSOJHyGKJFg0SO_F6z9y3lwRSN5-e8Uc7CC9xQ/E-Q6EeGtmNQ.jpg)\n",
        "\n",
        "Убедитесь, что у вас выбрано устройсво GPU.\n",
        "\n",
        "![alt text](https://sun1.is74.userapi.com/5tLEM9N4hWVdbBNbBG88PaT8ByPR6va9hVpfdw/XcvHl6aKZs4.jpg)\n",
        "\n",
        "---\n",
        "## Что будем делать\n",
        "\n",
        "На этом занятии мы реализуем и обучим сверточную нейронную сеть, которая будет способна распознавать пять разных видов покемонов: Псайдак, Сквиртл, Чармандер, Пикачу и Бульбазавр.\n",
        "\n",
        "![alt text](https://sun1.is74.userapi.com/c0xGQDqIsYMEyhLDCoG8TCyhUWQoQDCAHXaydg/9O_kL_yJRqY.jpg)\n",
        "\n",
        "Мы рассмотрим подход с переносом обучения (transfer learning). Суть данного подхода состоит в том, что нейронные сети, которые были предварительно обучены на большом наборе данных, можно использовать для решения задач в других областях. Данный подход не только позволяет повысить точность за счет того, что изначально сеть была обучена на большом количестве данных, но также уменьшить временные и ресурсные затраты на обучение."
      ]
    },
    {
      "cell_type": "markdown",
      "metadata": {
        "id": "0t2eB4SOp4un",
        "colab_type": "text"
      },
      "source": [
        "## Импорт библиотек\n",
        "Загрузим необходимые бибилиотеки для реализации сверточной нейронной сети.\n",
        "\n",
        "Numpy - это библиотека, добавляющая поддержку больших многомерных массивов и матриц, вместе с большой библиотекой высокоуровневых математических функций для операций с этими массивами.\n",
        "\n",
        "Keras - открытая нейросетевая библиотека для оперативной работы с сетями глубокого обучения.\n",
        "\n",
        "Matplotlib - библиотека для визуализации данных."
      ]
    },
    {
      "cell_type": "code",
      "metadata": {
        "id": "o3w_zzrz_nBU",
        "colab_type": "code",
        "colab": {}
      },
      "source": [
        "import keras\n",
        "from keras.layers import Conv2D, MaxPooling2D, GlobalAveragePooling2D\n",
        "from keras.models import Sequential  \n",
        "from keras.layers import  Dense\n",
        "import numpy as np\n",
        "from keras.preprocessing.image import ImageDataGenerator, img_to_array, load_img  \n",
        "from matplotlib import pyplot as plt\n",
        "import scipy\n",
        "from scipy import misc,ndimage\n",
        "import tensorflow as tf\n",
        "%matplotlib inline\n",
        "from sklearn.datasets import load_files\n",
        "from keras.utils import np_utils\n",
        "from glob import glob \n",
        "from keras.utils.np_utils import to_categorical   \n",
        "import math  \n",
        "import cv2 \n",
        "import os\n",
        "from zipfile import ZipFile"
      ],
      "execution_count": null,
      "outputs": []
    },
    {
      "cell_type": "markdown",
      "metadata": {
        "id": "lFrqwwc1qBzf",
        "colab_type": "text"
      },
      "source": [
        "## Загрузка данных\n",
        "Выполним загрузку набора изображения, на чем будет дообучаться наша нейронная сеть.\n",
        "\n",
        "Выберите вкладку Files слева в вертикальном меню.\n",
        "\n",
        "![alt text](https://sun1.is74.userapi.com/kFOVcPGnc82bkA5zoKykCt3j2q6xMa9SfmSTMg/zs5A0wjhmRs.jpg)\n",
        "\n",
        "Нажмите на кнопку Upload, чтобы загрузить датасет **Pokemon_dataset_big.zip** в Google Colab. [Ссылка на датасеты](https://drive.google.com/drive/folders/18vQ6tXnDm21mqn-02U-40jUvUaL1gYo9?usp=sharing)\n",
        "\n",
        "\n",
        "![alt text](https://sun2.is74.userapi.com/fDp8RuYK5Mp-ULMxV0WtUfUub4HH4QBDsu_vSg/A16VSk2vl5s.jpg)\n",
        "\n",
        "Поместить архив необходимо в текущую директорую ( РЯДОМ с папкой sample_data) "
      ]
    },
    {
      "cell_type": "code",
      "metadata": {
        "id": "p4_U9lXZBscE",
        "colab_type": "code",
        "colab": {}
      },
      "source": [
        "# !!не забудьте указать название датасета, который будете загружать\n",
        "fileName = 'Pokemon_dataset_big.zip'\n",
        "ds = ZipFile(fileName)\n",
        "ds.extractall()\n",
        "os.remove(fileName)\n",
        "print('Extracted zip file ' + fileName)"
      ],
      "execution_count": null,
      "outputs": []
    },
    {
      "cell_type": "markdown",
      "metadata": {
        "id": "WxK_6CEnqrHn",
        "colab_type": "text"
      },
      "source": [
        "## Препроцессинг\n",
        "Зафиксируем пути для тренировачного, валидационного и тестового набора."
      ]
    },
    {
      "cell_type": "code",
      "metadata": {
        "id": "Uke19pzsByLt",
        "colab_type": "code",
        "colab": {}
      },
      "source": [
        "# !!обновите тренировачные, валидационные и тестовые пути\n",
        "train_path='Pokemon_dataset_big/train'\n",
        "valid_path='Pokemon_dataset_big/valid'\n",
        "test_path='Pokemon_dataset_big/test'\n",
        "  \n",
        "img_width, img_height = 224, 224  \n",
        "batch_size = 8"
      ],
      "execution_count": null,
      "outputs": []
    },
    {
      "cell_type": "markdown",
      "metadata": {
        "id": "vRyhKgzFq_VT",
        "colab_type": "text"
      },
      "source": [
        "Выполним простую аугментацию изображений из тренировочного набора. "
      ]
    },
    {
      "cell_type": "code",
      "metadata": {
        "id": "KKKmyo6wB8cd",
        "colab_type": "code",
        "colab": {}
      },
      "source": [
        "datagen=ImageDataGenerator(rescale=1./255)\n",
        "train_datagen=ImageDataGenerator(rotation_range=90,\n",
        "                                rescale=1./255,\n",
        "                                horizontal_flip=True)"
      ],
      "execution_count": null,
      "outputs": []
    },
    {
      "cell_type": "markdown",
      "metadata": {
        "id": "t34TMpyOtzbB",
        "colab_type": "text"
      },
      "source": [
        "## Загрузка InceptionV3\n",
        "Выполним загрузку предварительно обученной нейронной сети InceptionV3, без последнего слоя. Таким образом, будет использоваться только сверточная часть нейронной сети. Она будет извлекать признаки из изображений, а за их классификацию будет отвечать наша нейронная сеть.\n",
        "\n",
        "![alt text](https://sun2.is74.userapi.com/J07QPdqMuK1MKCbO60vjP-vcyzW66d6Urd0gmw/jI9dhkNQOfE.jpg)\n",
        "\n"
      ]
    },
    {
      "cell_type": "code",
      "metadata": {
        "id": "uDICFZUBB_KV",
        "colab_type": "code",
        "colab": {}
      },
      "source": [
        "from keras import applications\n",
        "base_model = applications.InceptionV3(include_top=False, weights='imagenet')"
      ],
      "execution_count": null,
      "outputs": []
    },
    {
      "cell_type": "markdown",
      "metadata": {
        "id": "PacOxp4Mx3IQ",
        "colab_type": "text"
      },
      "source": [
        "## Извлечение карт признаков из InceptionV3\n",
        "В следующих двух блоках загрузим тренировочный и валидационный наборы в предварительно обученную нейронную сеть InceptionV3 и извлечем карты признаков (bootleneck features), которые в дальнейшем будем использовать в нашем классификаторе для распознавания покемонов."
      ]
    },
    {
      "cell_type": "code",
      "metadata": {
        "id": "tdhYWJ0zCIzl",
        "colab_type": "code",
        "colab": {}
      },
      "source": [
        "generator = train_datagen.flow_from_directory(  \n",
        "    train_path,  \n",
        "    target_size=(img_width, img_height),  \n",
        "    batch_size=batch_size,  \n",
        "    class_mode=None,  \n",
        "    shuffle=False)  \n",
        "\n",
        "nb_train_samples = len(generator.filenames)  \n",
        "num_classes = len(generator.class_indices)  \n",
        "print(num_classes)\n",
        "   \n",
        "predict_size_train = int(math.ceil(nb_train_samples/batch_size))  \n",
        "   \n",
        "bottleneck_features_train = base_model.predict_generator( generator, \n",
        "    predict_size_train, verbose=1)  \n",
        "   \n",
        "np.save('bottleneck_features_train_pokemon.npy', bottleneck_features_train)  \n",
        "\n",
        "generator = datagen.flow_from_directory(  \n",
        "     valid_path,  \n",
        "     target_size=(img_width, img_height),  \n",
        "     batch_size=batch_size,  \n",
        "     class_mode=None,  \n",
        "     shuffle=False)  \n",
        "   \n",
        "nb_validation_samples = len(generator.filenames)  \n",
        "   \n",
        "predict_size_validation = int(math.ceil(nb_validation_samples/batch_size))  \n",
        "   \n",
        "bottleneck_features_validation = base_model.predict_generator(  \n",
        "     generator, predict_size_validation,verbose=1)  \n",
        "   \n",
        "np.save('bottleneck_features_validation_pokemon.npy', bottleneck_features_validation)  \n"
      ],
      "execution_count": null,
      "outputs": []
    },
    {
      "cell_type": "code",
      "metadata": {
        "id": "IKPLverACetW",
        "colab_type": "code",
        "colab": {}
      },
      "source": [
        "generator_top = train_datagen.flow_from_directory(  \n",
        "         train_path,  \n",
        "         target_size=(img_width, img_height),  \n",
        "         batch_size=batch_size,  \n",
        "         class_mode='categorical',  \n",
        "         shuffle=False)  \n",
        "   \n",
        "nb_train_samples = len(generator_top.filenames)  \n",
        "num_classes = len(generator_top.class_indices)  \n",
        "   \n",
        "  \n",
        "train_data = np.load('bottleneck_features_train_pokemon.npy')  \n",
        "   \n",
        "train_labels = generator_top.classes  \n",
        "   \n",
        "train_labels = to_categorical(train_labels, num_classes=num_classes) \n",
        "\n",
        "generator_top = datagen.flow_from_directory(  \n",
        "         valid_path,  \n",
        "         target_size=(img_width, img_height),  \n",
        "         batch_size=batch_size,  \n",
        "         class_mode='categorical',  \n",
        "         shuffle=False)  \n",
        "   \n",
        "nb_validation_samples = len(generator_top.filenames)  \n",
        "   \n",
        "validation_data = np.load('bottleneck_features_validation_pokemon.npy')  \n",
        "   \n",
        "validation_labels = generator_top.classes  \n",
        "validation_labels = to_categorical(validation_labels, num_classes=num_classes) "
      ],
      "execution_count": null,
      "outputs": []
    },
    {
      "cell_type": "markdown",
      "metadata": {
        "id": "8W0klVHm1tPL",
        "colab_type": "text"
      },
      "source": [
        "## Реализация классификатора\n",
        "Реализуем модель нейронной сети, используя библиотеку Keras. На вход классификатора подадим признаки, полученные ранее из сверточной части нейронной сети InceptionV3."
      ]
    },
    {
      "cell_type": "code",
      "metadata": {
        "id": "LG6sLZX9Cmv6",
        "colab_type": "code",
        "colab": {}
      },
      "source": [
        "res_model = Sequential()\n",
        "res_model.add(GlobalAveragePooling2D(input_shape=train_data.shape[1:]))\n",
        "# !!не забудьте изменить количество нейронов в выходном слое\n",
        "res_model.add(Dense(5, activation='softmax'))\n",
        "\n",
        "res_model.summary()"
      ],
      "execution_count": null,
      "outputs": []
    },
    {
      "cell_type": "markdown",
      "metadata": {
        "id": "fFhogJ2t2kd4",
        "colab_type": "text"
      },
      "source": [
        "## Компиляция и обучение нейронной сети\n",
        "Скомпилируем нашу модель и запустим обучение."
      ]
    },
    {
      "cell_type": "code",
      "metadata": {
        "id": "bgBd8TLPCtay",
        "colab_type": "code",
        "colab": {}
      },
      "source": [
        "res_model.compile(loss='categorical_crossentropy',optimizer='adam',metrics=['accuracy'])"
      ],
      "execution_count": null,
      "outputs": []
    },
    {
      "cell_type": "code",
      "metadata": {
        "id": "ePnzRrZQCxbo",
        "colab_type": "code",
        "colab": {}
      },
      "source": [
        "res_model.fit(train_data,train_labels,\n",
        "                    validation_data=(validation_data,validation_labels),\n",
        "                    epochs=30,batch_size=batch_size,verbose=1)"
      ],
      "execution_count": null,
      "outputs": []
    },
    {
      "cell_type": "markdown",
      "metadata": {
        "id": "gQAyUQpd266i",
        "colab_type": "text"
      },
      "source": [
        "## Классы покемонов\n",
        "Создадим массив из имен покемонов."
      ]
    },
    {
      "cell_type": "code",
      "metadata": {
        "id": "4VGB2EHaC-D5",
        "colab_type": "code",
        "colab": {}
      },
      "source": [
        "pokemon_names = [item[26:-1] for item in sorted(glob(train_path+'/*/'))]\n",
        "pokemon_names"
      ],
      "execution_count": null,
      "outputs": []
    },
    {
      "cell_type": "markdown",
      "metadata": {
        "id": "QuVytdxA3N35",
        "colab_type": "text"
      },
      "source": [
        "## Предобработка тестовых изображений\n",
        "Запустим необходимые функции, которые понадобяться для предобработки и загрузки тестового изображения."
      ]
    },
    {
      "cell_type": "code",
      "metadata": {
        "id": "LUdf0pXZDmXv",
        "colab_type": "code",
        "colab": {}
      },
      "source": [
        "from keras.preprocessing import image \n",
        "def path_to_tensor(img_path):\n",
        "    img = image.load_img(img_path, target_size=(224, 224))\n",
        "    x = image.img_to_array(img)\n",
        "    return np.expand_dims(x, axis=0)\n",
        "\n",
        "def extract_InceptionV3(tensor):\n",
        "\tfrom keras.applications.inception_v3 import InceptionV3, preprocess_input\n",
        "\treturn InceptionV3(weights='imagenet', include_top=False).predict(preprocess_input(tensor))\n",
        " \n",
        "def vgg_predict_pokemon(img_path):\n",
        "    bottleneck_feature = extract_InceptionV3(path_to_tensor(img_path))\n",
        "    predicted_vector = res_model.predict(bottleneck_feature)\n",
        "    name = pokemon_names[np.argmax(predicted_vector)]\n",
        "    img = cv2.imread(img_path)\n",
        "    cv_rgb = cv2.cvtColor(img, cv2.COLOR_BGR2RGB)\n",
        "    imgplot = plt.imshow(cv_rgb)\n",
        "    plt.axis('off')\n",
        "    return format(name)"
      ],
      "execution_count": null,
      "outputs": []
    },
    {
      "cell_type": "markdown",
      "metadata": {
        "id": "npCIoAgA6AD2",
        "colab_type": "text"
      },
      "source": [
        "## Распознавание тестового изображения"
      ]
    },
    {
      "cell_type": "markdown",
      "metadata": {
        "id": "wGlwWnQmqHms",
        "colab_type": "text"
      },
      "source": [
        "### *ЗАДАНИЕ*\n",
        "Выполните загрузку любого тестового изображения из папки test c локального компьютера. Не забудьте импортировать необходимый пакет из google colab.\n",
        "\n",
        "Вам нужно написать код по загрузке изображения в ячейке ниже."
      ]
    },
    {
      "cell_type": "code",
      "metadata": {
        "id": "PCfaa7GIPFuY",
        "colab_type": "code",
        "colab": {}
      },
      "source": [
        "# напишите код по загрузке изображения после комментария\n",
        "\n"
      ],
      "execution_count": null,
      "outputs": []
    },
    {
      "cell_type": "code",
      "metadata": {
        "id": "vsllEd2tD8VF",
        "colab_type": "code",
        "colab": {}
      },
      "source": [
        "vgg_predict_pokemon(next(iter(file_name)))"
      ],
      "execution_count": null,
      "outputs": []
    },
    {
      "cell_type": "markdown",
      "metadata": {
        "id": "4eXdlPs0smMC",
        "colab_type": "text"
      },
      "source": [
        "## Задания для второй практики"
      ]
    },
    {
      "cell_type": "markdown",
      "metadata": {
        "id": "4LlxLDEAr7RY",
        "colab_type": "text"
      },
      "source": [
        "### Загрузка изображения\n",
        "\n",
        "После выполнения задания, вам нужно будет прикрепить измененный Google Colab в курс на платформе. Для того чтобы скачать файл нажмите выберите File -> Download .ipynb.\n",
        "![alt text](https://sun2.is74.userapi.com/EqGA1cIb3fITkfwnoV0nLgYgEM4b0xzvz94t2A/_ksVBmhhzWU.jpg)\n",
        "\n"
      ]
    },
    {
      "cell_type": "markdown",
      "metadata": {
        "id": "r6cVH8oJsZ1J",
        "colab_type": "text"
      },
      "source": [
        "### Задание на обучение нейронной сети на другом наборе данных\n",
        "Добавим еще один класс покемона в датасет. Необходимо будет обучить сверточную нейронную сеть на новом наборе данных, который будет включать в себя 6 видов покемонов.\n",
        "\n",
        "[ссылка на датасет](https://drive.google.com/drive/folders/1-T0IFPu9_cAfHNVRzrgH6o4Xpw_EIBbf?usp=sharing)\n",
        "\n",
        "Вам необходимо будет проделать те же шаги по загрузке датасета, что и в начале и изменить код в некоторых местах.\n",
        "\n",
        "Блоки кода, в которых надо что-то поменять отмечены комментариями \n",
        "\n",
        "```\n",
        "#!!какой-то текст\n",
        "```\n",
        "\n",
        "После обучения и тестирования нейронной сети, вам необходимо будет прикрепить измененный Google Colab в курс на платформе. Для того чтобы скачать файл нажмите выберите File -> Download .ipynb.\n"
      ]
    }
  ]
}